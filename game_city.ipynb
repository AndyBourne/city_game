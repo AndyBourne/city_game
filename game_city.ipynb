{
 "cells": [
  {
   "cell_type": "code",
   "execution_count": 105,
   "metadata": {},
   "outputs": [
    {
     "name": "stdout",
     "output_type": "stream",
     "text": [
      "Input City Name保定\n",
      "东辽县\n"
     ]
    }
   ],
   "source": [
    "import matplotlib.pyplot as plt\n",
    "%matplotlib inline\n",
    "import numpy as np\n",
    "import pandas as pd\n",
    "import random\n",
    "# import statsmodels.api as sm\n",
    "# from statsmodels.nonparametric.kde import KDEUnivariate\n",
    "# from statsmodels.nonparametric import smoothers_lowess\n",
    "from pandas import Series, DataFrame\n",
    "# from patsy import dmatrices\n",
    "# from sklearn import datasets, svm\n",
    "from pypinyin import pinyin, lazy_pinyin, Style\n",
    "\n",
    "data = pd.read_csv(\"/Users/wangguotao/Downloads/kaggle-titanic-master/data/region.csv\")\n",
    "test_data = data[['REGION_NAME', 'REGION_NAME_EN']]\n",
    "str_name_input = str(name_input)\n",
    "\n",
    "test_data1 = DataFrame(test_data)\n",
    "a1=test_data1.copy()\n",
    "result_data = a1[a1['REGION_NAME_EN'].isin([str_name_input])] \n",
    "\n",
    "\n",
    "#coding=utf-8\n",
    "name = input(u\"Input City Name\")\n",
    "left_pinyin_name = lazy_pinyin(name)\n",
    "left_A = left_pinyin_name[-1]\n",
    "left_A_upper = left_A.upper()\n",
    "# print(left_A)\n",
    "# print(left_A_upper[0])\n",
    "# test_data.head(3)\n",
    "test_data_frame = DataFrame(test_data)\n",
    "test_data_frame_list = np.array(test_data_frame)\n",
    "train_x_list=test_data_frame_list.tolist()\n",
    "# print(train_x_list)\n",
    "\n",
    "new_answer = []\n",
    "for each_list in train_x_list:     \n",
    "    if isinstance(each_list,list):\n",
    "        for new_each in each_list:  \n",
    "            if str(new_each)[0] == left_A_upper[0]:\n",
    "#                 print(new_each)\n",
    "                new_answer.append(new_each)\n",
    "# print(new_answer)\n",
    "# print(len(new_answer))\n",
    "\n",
    "new_answer_hanzi = []\n",
    "for each_list in train_x_list:     \n",
    "    if isinstance(each_list,list):\n",
    "        for new_each in each_list:  \n",
    "#                 print(new_each)\n",
    "                new_answer_hanzi.append(new_each)\n",
    "# print(new_answer_hanzi)\n",
    "# print(len(new_answer_hanzi))\n",
    "# print(new_answer_hanzi.index(new_answer[random.randint(0,len(new_answer))]))\n",
    "print(new_answer_hanzi[new_answer_hanzi.index(new_answer[random.randint(0,len(new_answer))])-1])"
   ]
  },
  {
   "cell_type": "code",
   "execution_count": null,
   "metadata": {},
   "outputs": [],
   "source": []
  }
 ],
 "metadata": {
  "kernelspec": {
   "display_name": "Python 3",
   "language": "python",
   "name": "python3"
  },
  "language_info": {
   "codemirror_mode": {
    "name": "ipython",
    "version": 3
   },
   "file_extension": ".py",
   "mimetype": "text/x-python",
   "name": "python",
   "nbconvert_exporter": "python",
   "pygments_lexer": "ipython3",
   "version": "3.6.2"
  }
 },
 "nbformat": 4,
 "nbformat_minor": 2
}
